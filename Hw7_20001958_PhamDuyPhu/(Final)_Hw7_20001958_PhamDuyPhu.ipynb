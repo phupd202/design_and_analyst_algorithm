{
 "cells": [
  {
   "attachments": {},
   "cell_type": "markdown",
   "metadata": {},
   "source": [
    "**Phần 1: Lý thuyết phương pháp**\n",
    "\n",
    "1. Ý tưởng\n",
    "    + Sử dụng hướng tiếp cận Bottom - up\n",
    "    + Giải trước các bài toán con rồi giải các bài toán lớn dần\n",
    "    + Kết quả của bài toán con sẽ được lưu để tính toán kết quả của bài toán lớn hơn\n",
    "\n",
    "2. Các yếu tố cơ bản\n",
    "    + Công thức truy hồi\n",
    "    + Trường hợp cơ sở của công thức truy hồi\n",
    "    + Bảng kết quả/Bảng phương án\n",
    "    + Kết quả tối ưu của bài toán sau mỗi bước\n",
    "    + Truy vết tìm nghiệm\n",
    "\n",
    "3. Các bước xây dụng thuật toán\n",
    "    + Thiết kế thuật toán\n",
    "        * Xác định xem bài toán có thể giải bằng quy hoạch động được không\n",
    "        * Xây dựng công thức truy hồi cho bài toán\n",
    "        * Xác định base case (TH cơ sở) của công thức truy hồi\n",
    "    + Triển khai thuật toán\n",
    "        * Xây dựng bảng phương án cho bài toán\n",
    "        * Tìm kết quả tối ưu – nghiệm của bài toán sau mỗi bước\n",
    "        * Truy vết liệt kê thành phần nghiệm"
   ]
  },
  {
   "attachments": {},
   "cell_type": "markdown",
   "metadata": {},
   "source": [
    "**Phần 2: Bài tập lập trình**\n",
    "- Bài 1: Tìm dãy con đơn điệu dài nhất"
   ]
  },
  {
   "cell_type": "code",
   "execution_count": 101,
   "metadata": {},
   "outputs": [
    {
     "name": "stdout",
     "output_type": "stream",
     "text": [
      "Chuỗi đầu vào: [2, 5, 4, 6, 3, 8, 9, 7]\n",
      "Bảng phương án: [1, 2, 2, 3, 2, 4, 5, 4]\n",
      "Dãy con đơn điệu dài nhất: [2, 5, 6, 8, 9]\n"
     ]
    }
   ],
   "source": [
    "import sys\n",
    "def find_increasing_subsequence(sequence):\n",
    "    n = len(sequence)\n",
    "    table_result = [1, ]\n",
    "    \n",
    "    # bảng phương án\n",
    "    for i in range(1, n):\n",
    "        max_val = max( [table_result[j] for j in range(i) if sequence[j] <= sequence[i]] , default = 0)\n",
    "        if sequence[i] >= max_val:\n",
    "            table_result.append(max_val + 1)\n",
    "        else:\n",
    "            table_result.append(max_val)\n",
    "    return table_result\n",
    "\n",
    "def back_trace(sequence):\n",
    "    table_result = find_increasing_subsequence(sequence)\n",
    "    # n = len(table_result)\n",
    "    solution = []\n",
    "\n",
    "    # bắt đầu từ vị trí max\n",
    "    idx_max = table_result.index(max(table_result))\n",
    "    while table_result[idx_max] > 1:\n",
    "        solution.append(sequence[idx_max])\n",
    "        \n",
    "        for i in range(0, idx_max):\n",
    "            if sequence[i] < sequence[idx_max] and table_result[idx_max] - table_result[i] == 1:\n",
    "                idx_max = i\n",
    "                break\n",
    "\n",
    "    solution.append(sequence[idx_max])\n",
    "    solution.reverse()\n",
    "    return solution\n",
    "\n",
    "sequence = [2, 5, 4, 6, 3, 8, 9, 7]\n",
    "print(\"Chuỗi đầu vào:\", sequence)\n",
    "\n",
    "table_result = find_increasing_subsequence(sequence)\n",
    "print(\"Bảng phương án:\", table_result)\n",
    "\n",
    "solution = back_trace(sequence)\n",
    "print(\"Dãy con đơn điệu dài nhất:\", solution)\n"
   ]
  },
  {
   "attachments": {},
   "cell_type": "markdown",
   "metadata": {},
   "source": [
    "* Độ phức tạp thời gian: O(n^2)\n",
    "* Độ phức tạp về không gian: O(n) (sử dụng mảng 1 chiều table_result để lưu các phương án)"
   ]
  },
  {
   "attachments": {},
   "cell_type": "markdown",
   "metadata": {},
   "source": [
    "- Bài 2: Bài toán xếp balo 0 - 1\n",
    "    + Input: n, Pmax, list p: trọng lượng của các vật, list w = giá trị của các vật\n",
    "    + Output: W = tổng giá trị lớn nhất của các đồ vật được cho vào balo\n",
    "    + Triển khai: Xây dựng bảng phương án với: cột - biểu thị số lượng vật cần xét, hàng - biểu diễn trọng lượng còn lại tối đa của balo khi xét đến vật i (Như slide bài giảng)"
   ]
  },
  {
   "cell_type": "code",
   "execution_count": 102,
   "metadata": {},
   "outputs": [
    {
     "name": "stdout",
     "output_type": "stream",
     "text": [
      "Bảng phương án cho bài toán:  [[0, 0, 0, 0, 0], [0, 0, 3, 3, 3], [0, 2, 3, 5, 5], [0, 2, 3, 5, 5], [0, 2, 3, 5, 6]]\n",
      "Solution cho bài toán:  [1, 1, 0, 1]\n"
     ]
    }
   ],
   "source": [
    "def knapsack(n, p_max, p, v):\n",
    "    # bảng phương án mặc định\n",
    "    table_result = [[0 for j in range(p_max + 1)] for i in range(n + 1)]\n",
    "\n",
    "    # xây dựng bảng p.a với công thức truy hồi\n",
    "    for i in range(1, n + 1):\n",
    "        for j in range(1, p_max + 1):\n",
    "            if p[i - 1] <= j:\n",
    "                table_result[i][j] = max(v[i-1] + table_result[i-1][j - p[i-1]], table_result[i-1][j])\n",
    "            else:\n",
    "                table_result[i][j] = table_result[i-1][j]\n",
    "    return table_result\n",
    "\n",
    "def back_trace(n, p_max, p, v):\n",
    "    table_result = knapsack(n, p_max, p, v)\n",
    "\n",
    "    # Lưu phương án\n",
    "    solution = [0] * n\n",
    "\n",
    "    # back trace \n",
    "    j = p_max\n",
    "    for i in range(n, 0, -1):\n",
    "        if table_result[i][j] > table_result[i-1][j]:\n",
    "            # Nếu i được chọn\n",
    "            solution[i - 1] = 1\n",
    "            j = j - p[i-1]\n",
    "    return solution\n",
    "\n",
    "\n",
    "# Ví dụ trong slide\n",
    "p_max = 4\n",
    "p = [2, 1, 2, 1]\n",
    "v = [3, 2, 2, 1]\n",
    "\n",
    "table_result = knapsack(4, p_max, p, v)\n",
    "solution = back_trace(4, p_max, p, v)\n",
    "\n",
    "print(\"Bảng phương án cho bài toán: \", table_result)\n",
    "print(\"Solution cho bài toán: \", solution)\n",
    "# Cho vật 1, 2, 4\n"
   ]
  },
  {
   "attachments": {},
   "cell_type": "markdown",
   "metadata": {},
   "source": [
    "- Độ phức tạp thời gian:\n",
    "    + Thao tác xây dựng bảng phương án do cần duyệt hết ma trận 2 chiều cỡ (n + 1) * (p_max + 1) --> Độ phức tạp: O(n + 1) * (p_max + 1) = O(n^2)\n",
    "    + Thao tác truy vết: O(n)\n",
    "    + Độ phức tạp thời gian: O(n^2)\n",
    "- Độ phức tạp không gian:\n",
    "    + Do sử dụng 1 mảng 2 chiều lưu các kết quả tối ưu, độ phức tạp không gian là O(n^2)"
   ]
  },
  {
   "attachments": {},
   "cell_type": "markdown",
   "metadata": {},
   "source": [
    "**Phần 3: Đặt bài toán, thiết kế, phân tích và triển khai**\n",
    "- Đặt bài toán\n",
    "     + Bài toán cho thuê phòng họp: \n",
    "          * Có n cuộc họp, cuộc họp thứ i bắt đầu vào thời điểm Ai và kết thúc vào thời điểm Bi, tiền thuê hội trường là Ci\n",
    "          * Do chỉ có một phòng họp nên cuộc họp Ai phải kết thúc thì cuộc A(i+1) mới được diễn ra\n",
    "          * Bố trí lịch thuê phòng họp sao cho số tiền thu được là nhiều nhất\n",
    "     + Input: n, begin[], end[], cost - tiền thuê\n",
    "     + Output: Số tiền lớn nhất thu được max_profit, phương án tương ứng bao gồm (thời gian bắt đầu, kết thúc, giá thuê phòng)\n",
    "- Thiết kế\n",
    "     + Có thể sử dụng quy hoạch động để giải\n",
    "     + Công thức truy hồi: Khi xét đến cuộc họp thứ i, sẽ có 2 trường hợp xảy ra:\n",
    "          * Xếp lịch cho cuộc hợp i, max_profit = T(j) + cost[i], với j < i, T(j) = max[0: i]\n",
    "          * Không xếp lịch cho cuộc họp i, max_profit = T(i - 1)\n",
    "          * Công thức truy hồi = T(i) = max( T(i-1), T(j) + cost[i]) với j < i, T[j] = max[0: i]\n",
    "          * Base case: i = 0, max_profit = T(0) = 0\n",
    "- Triển khai\n",
    "     + Sắp xếp các cuộc họp theo thứ tự thời gian kết thúc tăng dần\n",
    "     + Xây dựng bảng phương án\n",
    "          * Khỏi tạo list dp để lưu trữ các giá trị tối ưu sau mỗi bước\n",
    "          * Ghi nhận phương án cho dp[i] qua công thức: dp[i] = max(dp[i - 1], dp[j] + cost[i])\n",
    "     + Truy vết\n",
    "          * Tạo list solution để lưu các phương án\n",
    "          * Bắt đầu tử giá trị cực đại i = idx_max\n",
    "               * Với j < i, dp[j] = max[dp[0:i], nếu dp[i] > dp[j], tức cuộc họp i được xếp lịch, thêm i vào solution\n",
    "               * Nếu dp[i] == dp[j], tức cuộc họp i không được xếp lịch, thêm j vào solution\n",
    "               * Cập nhật lại chỉ số i = j\n",
    "               * Thuật toán kết thúc khi i = 0\n",
    "- Phân tích:\n",
    "     + Độ phức tạp thời gian\n",
    "          * Thao tác xây dựng bảng phương án: O(n^2)\n",
    "          * Thao tác truy vết: O(n)\n",
    "          * Độ phức tạp thời gian = O(n^2)\n",
    "     + Độ phức tạp không gian\n",
    "          * Sử dụng mảng 1 chiều (list) dp lưu các giá trị tối ưu\n",
    "          * Độ phức tạp không gian = O(n)"
   ]
  },
  {
   "cell_type": "code",
   "execution_count": null,
   "metadata": {},
   "outputs": [
    {
     "name": "stdout",
     "output_type": "stream",
     "text": [
      "10\n",
      "[(1, 3, 1), (4, 5, 2), (7, 8, 3), (10, 15, 4)]\n",
      "Note: (Thời gian bắt đầu, thời gian kết thúc, Giá)\n"
     ]
    }
   ],
   "source": [
    "def max_profit(n, begin, end, cost):\n",
    "    meetings = [(begin[i], end[i], cost[i]) for i in range(n)]\n",
    "    meetings.sort(key=lambda x: x[1])\n",
    "\n",
    "    # Bảng phương án\n",
    "    dp = [0] * (n + 1)\n",
    "\n",
    "    # Xây dựng bảng phương án\n",
    "    for i in range(1, n + 1):\n",
    "        j = i - 1\n",
    "        while j >= 0 and meetings[j - 1][1] > meetings[i - 1][0]:\n",
    "            j -= 1\n",
    "        dp[i] = max(dp[i - 1], dp[j] + meetings[i - 1][2])\n",
    "\n",
    "    # truy vết\n",
    "    solution = []\n",
    "    j = dp.index(max(dp))\n",
    "    while j > 0:\n",
    "        max_val = max(dp[0:j])\n",
    "        idx_max = dp.index(max_val)\n",
    "        if dp[j] == max_val:\n",
    "            solution.append(meetings[idx_max])\n",
    "        \n",
    "        if dp[j] > max_val:\n",
    "            solution.append(meetings[j - 1])\n",
    "        j = idx_max\n",
    "    solution.reverse()\n",
    "\n",
    "    return dp[n], solution\n",
    "\n",
    "n = 4\n",
    "begin = [1, 4, 7, 10]\n",
    "end = [3, 5, 8, 15]\n",
    "cost = [1, 2, 3, 4]\n",
    "max_cost, solution = max_profit(n, begin, end, cost)\n",
    "\n",
    "# Test 2: \n",
    "# n = 6\n",
    "# begin = [1, 3, 0, 5, 8, 5]\n",
    "# end = [2, 4, 6, 7, 9, 9]\n",
    "# cost = [6, 3, 5, 4, 6, 2]\n",
    "max_cost, solution = max_profit(n, begin, end, cost)\n",
    "print(max_cost)\n",
    "print(solution)\n",
    "print(\"Note: (Thời gian bắt đầu, thời gian kết thúc, Giá)\")\n",
    "\n"
   ]
  }
 ],
 "metadata": {
  "kernelspec": {
   "display_name": "Python 3",
   "language": "python",
   "name": "python3"
  },
  "language_info": {
   "codemirror_mode": {
    "name": "ipython",
    "version": 3
   },
   "file_extension": ".py",
   "mimetype": "text/x-python",
   "name": "python",
   "nbconvert_exporter": "python",
   "pygments_lexer": "ipython3",
   "version": "3.10.7"
  },
  "orig_nbformat": 4
 },
 "nbformat": 4,
 "nbformat_minor": 2
}
